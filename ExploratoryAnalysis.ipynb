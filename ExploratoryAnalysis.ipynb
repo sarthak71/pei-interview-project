{
 "cells": [
  {
   "cell_type": "markdown",
   "id": "96214e2b",
   "metadata": {
    "papermill": {
     "duration": 0.010168,
     "end_time": "2024-08-12T04:59:03.354600",
     "exception": false,
     "start_time": "2024-08-12T04:59:03.344432",
     "status": "completed"
    },
    "tags": []
   },
   "source": [
    "# PEI Group Interview Project\n",
    "\n",
    "## Data Analyst Task\n",
    "\n",
    "### The sales team has the following data from various sources:\n",
    "* Customers.xls - [https://easyupload.io/t9m9my]\n",
    "* Orders.csv - [https://easyupload.io/pngfna]\n",
    "* Shippings.json - [https://easyupload.io/fm8t5t]\n",
    "\n",
    "\n",
    "### Objectives: The team is trying to generate the reports for the below requirements:\n",
    "\n",
    "* the total amount spent and the country for the Pending delivery status for each country.\n",
    "* the total number of transactions, total quantity sold, and total amount spent for each customer, along with the product details.\n",
    "* the maximum product purchased for each country.\n",
    "* the most purchased product based on the age category less than 30 and above 30.\n",
    "* the country that had minimum transactions and sales amount.\n",
    "\n",
    "\n",
    "### Quality Checks: As a Data Analyst, you are required to\n",
    "\n",
    "* Verify the accuracy, completeness, and reliability of source data. \n",
    "* Based on your findings, define and outline the requirements for anticipated datasets, detailing the necessary data components.\n",
    "* Develop the data models to effectively organise and structure the information and provide a detailed mapping of existing data flows, focussing on the areas of concern.\n",
    "* Prepare a story with technical specifications for one part of the data model for a data engineer.\n",
    "* Communicate the findings and insights to stakeholders in a visually comprehensive manner.\n"
   ]
  },
  {
   "cell_type": "code",
   "execution_count": 1,
   "id": "1dde6f64",
   "metadata": {
    "execution": {
     "iopub.execute_input": "2024-08-12T04:59:03.370028Z",
     "iopub.status.busy": "2024-08-12T04:59:03.369020Z",
     "iopub.status.idle": "2024-08-12T04:59:16.047036Z",
     "shell.execute_reply": "2024-08-12T04:59:16.045867Z"
    },
    "papermill": {
     "duration": 12.688104,
     "end_time": "2024-08-12T04:59:16.049557",
     "exception": false,
     "start_time": "2024-08-12T04:59:03.361453",
     "status": "completed"
    },
    "tags": []
   },
   "outputs": [
    {
     "name": "stdout",
     "output_type": "stream",
     "text": [
      "Collecting xlrd\r\n",
      "  Downloading xlrd-2.0.1-py2.py3-none-any.whl.metadata (3.4 kB)\r\n",
      "Downloading xlrd-2.0.1-py2.py3-none-any.whl (96 kB)\r\n",
      "\u001b[2K   \u001b[90m━━━━━━━━━━━━━━━━━━━━━━━━━━━━━━━━━━━━━━━━\u001b[0m \u001b[32m96.5/96.5 kB\u001b[0m \u001b[31m4.1 MB/s\u001b[0m eta \u001b[36m0:00:00\u001b[0m\r\n",
      "\u001b[?25hInstalling collected packages: xlrd\r\n",
      "Successfully installed xlrd-2.0.1\r\n"
     ]
    }
   ],
   "source": [
    "# Additional packages required that are not part of the default docker image.\n",
    "\n",
    "# Required to import xls files in pandas\n",
    "!pip install xlrd"
   ]
  },
  {
   "cell_type": "code",
   "execution_count": 2,
   "id": "9a4a47d8",
   "metadata": {
    "_cell_guid": "b1076dfc-b9ad-4769-8c92-a6c4dae69d19",
    "_uuid": "8f2839f25d086af736a60e9eeb907d3b93b6e0e5",
    "execution": {
     "iopub.execute_input": "2024-08-12T04:59:16.064696Z",
     "iopub.status.busy": "2024-08-12T04:59:16.064363Z",
     "iopub.status.idle": "2024-08-12T04:59:17.878075Z",
     "shell.execute_reply": "2024-08-12T04:59:17.877027Z"
    },
    "papermill": {
     "duration": 1.824003,
     "end_time": "2024-08-12T04:59:17.880389",
     "exception": false,
     "start_time": "2024-08-12T04:59:16.056386",
     "status": "completed"
    },
    "tags": []
   },
   "outputs": [
    {
     "name": "stdout",
     "output_type": "stream",
     "text": [
      "/kaggle/input/pei-group/Order.csv\n",
      "/kaggle/input/pei-group/Customer.xls\n",
      "/kaggle/input/pei-group/Shipping.json\n"
     ]
    }
   ],
   "source": [
    "import numpy as np # linear algebra\n",
    "import pandas as pd # data processing, CSV file I/O (e.g. pd.read_csv)\n",
    "from matplotlib import pyplot as plt\n",
    "import seaborn as sns\n",
    "\n",
    "import os\n",
    "for dirname, _, filenames in os.walk('/kaggle/input'):\n",
    "    for filename in filenames:\n",
    "        print(os.path.join(dirname, filename))\n"
   ]
  },
  {
   "cell_type": "markdown",
   "id": "8c5dc527",
   "metadata": {
    "papermill": {
     "duration": 0.006477,
     "end_time": "2024-08-12T04:59:17.893658",
     "exception": false,
     "start_time": "2024-08-12T04:59:17.887181",
     "status": "completed"
    },
    "tags": []
   },
   "source": [
    "## Exploratory Data Analysis\n",
    "\n",
    "### Importing Data\n",
    "We will import data from multiple sources into our analysis environment using pandas."
   ]
  },
  {
   "cell_type": "code",
   "execution_count": 3,
   "id": "a1ef58f7",
   "metadata": {
    "execution": {
     "iopub.execute_input": "2024-08-12T04:59:17.909235Z",
     "iopub.status.busy": "2024-08-12T04:59:17.908165Z",
     "iopub.status.idle": "2024-08-12T04:59:17.966653Z",
     "shell.execute_reply": "2024-08-12T04:59:17.965574Z"
    },
    "papermill": {
     "duration": 0.068841,
     "end_time": "2024-08-12T04:59:17.969146",
     "exception": false,
     "start_time": "2024-08-12T04:59:17.900305",
     "status": "completed"
    },
    "tags": []
   },
   "outputs": [],
   "source": [
    "customers = pd.read_excel('/kaggle/input/pei-group/Customer.xls', sheet_name=0)\n",
    "orders = pd.read_csv('/kaggle/input/pei-group/Order.csv')\n",
    "shipping = pd.read_json('/kaggle/input/pei-group/Shipping.json')"
   ]
  },
  {
   "cell_type": "code",
   "execution_count": 4,
   "id": "2eaa5b24",
   "metadata": {
    "execution": {
     "iopub.execute_input": "2024-08-12T04:59:17.983913Z",
     "iopub.status.busy": "2024-08-12T04:59:17.983586Z",
     "iopub.status.idle": "2024-08-12T04:59:17.996184Z",
     "shell.execute_reply": "2024-08-12T04:59:17.994924Z"
    },
    "papermill": {
     "duration": 0.022369,
     "end_time": "2024-08-12T04:59:17.998329",
     "exception": false,
     "start_time": "2024-08-12T04:59:17.975960",
     "status": "completed"
    },
    "tags": []
   },
   "outputs": [
    {
     "name": "stdout",
     "output_type": "stream",
     "text": [
      "   Customer_ID    First     Last  Age Country\n",
      "0            1   Joseph     Rice   43     USA\n",
      "1            2     Gary    Moore   71     USA\n",
      "2            3     John   Walker   44      UK\n",
      "3            4     Eric   Carter   38      UK\n",
      "4            5  William  Jackson   58     UAE\n",
      "\n",
      "   Order_ID      Item  Amount  Customer_ID\n",
      "0         1  Keyboard     400          139\n",
      "1         2     Mouse     300          250\n",
      "2         3   Monitor   12000          239\n",
      "3         4  Keyboard     400          153\n",
      "4         5  Mousepad     250          153\n",
      "\n",
      "   Shipping_ID     Status  Customer_ID\n",
      "0            1    Pending          173\n",
      "1            2    Pending          155\n",
      "2            3  Delivered          242\n",
      "3            4    Pending          223\n",
      "4            5  Delivered           72\n"
     ]
    }
   ],
   "source": [
    "# Let's check if all dataframes have been created successfully\n",
    "print(customers.head(), orders.head(), shipping.head(), sep='\\n\\n')"
   ]
  },
  {
   "cell_type": "markdown",
   "id": "c9b6924e",
   "metadata": {
    "papermill": {
     "duration": 0.006412,
     "end_time": "2024-08-12T04:59:18.011417",
     "exception": false,
     "start_time": "2024-08-12T04:59:18.005005",
     "status": "completed"
    },
    "tags": []
   },
   "source": [
    "#### Result\n",
    "The schemas are matching with the data present in the files. Hence, the import was **successful**.\n",
    "\n",
    "### Understanding Data\n",
    "\n",
    "[Data Analysis Report.pdf](https://github.com/sarthak71/pei-interview-project/blob/main/Data%20Analysis%20Report.pdf) all information about the project such as:\n",
    "* Data Dictionary (table schemas, available columns, column descriptions and assumed data types)\n",
    "* Assumed constraints\n",
    "* Business Process Diagram\n",
    "* Data Flow Diagram"
   ]
  },
  {
   "cell_type": "code",
   "execution_count": 5,
   "id": "8ac9cf49",
   "metadata": {
    "execution": {
     "iopub.execute_input": "2024-08-12T04:59:18.025876Z",
     "iopub.status.busy": "2024-08-12T04:59:18.025540Z",
     "iopub.status.idle": "2024-08-12T04:59:18.030559Z",
     "shell.execute_reply": "2024-08-12T04:59:18.029435Z"
    },
    "papermill": {
     "duration": 0.015006,
     "end_time": "2024-08-12T04:59:18.032861",
     "exception": false,
     "start_time": "2024-08-12T04:59:18.017855",
     "status": "completed"
    },
    "tags": []
   },
   "outputs": [
    {
     "name": "stdout",
     "output_type": "stream",
     "text": [
      " Customer: (250, 5) \n",
      " Order: (250, 4) \n",
      " Shipping: (250, 3)\n"
     ]
    }
   ],
   "source": [
    "# Check the data size of each table.\n",
    "print(f' Customer: {customers.shape} \\n Order: {orders.shape} \\n Shipping: {shipping.shape}', sep='\\n\\n')"
   ]
  },
  {
   "cell_type": "code",
   "execution_count": 6,
   "id": "c4690b90",
   "metadata": {
    "execution": {
     "iopub.execute_input": "2024-08-12T04:59:18.047989Z",
     "iopub.status.busy": "2024-08-12T04:59:18.047671Z",
     "iopub.status.idle": "2024-08-12T04:59:18.076840Z",
     "shell.execute_reply": "2024-08-12T04:59:18.075935Z"
    },
    "papermill": {
     "duration": 0.040045,
     "end_time": "2024-08-12T04:59:18.079509",
     "exception": false,
     "start_time": "2024-08-12T04:59:18.039464",
     "status": "completed"
    },
    "tags": []
   },
   "outputs": [
    {
     "name": "stdout",
     "output_type": "stream",
     "text": [
      "Customers Table Info:\n",
      "<class 'pandas.core.frame.DataFrame'>\n",
      "RangeIndex: 250 entries, 0 to 249\n",
      "Data columns (total 5 columns):\n",
      " #   Column       Non-Null Count  Dtype \n",
      "---  ------       --------------  ----- \n",
      " 0   Customer_ID  250 non-null    int64 \n",
      " 1   First        250 non-null    object\n",
      " 2   Last         250 non-null    object\n",
      " 3   Age          250 non-null    int64 \n",
      " 4   Country      250 non-null    object\n",
      "dtypes: int64(2), object(3)\n",
      "memory usage: 9.9+ KB\n",
      "\n",
      "\n",
      "Orders Table Info:\n",
      "<class 'pandas.core.frame.DataFrame'>\n",
      "RangeIndex: 250 entries, 0 to 249\n",
      "Data columns (total 4 columns):\n",
      " #   Column       Non-Null Count  Dtype \n",
      "---  ------       --------------  ----- \n",
      " 0   Order_ID     250 non-null    int64 \n",
      " 1   Item         250 non-null    object\n",
      " 2   Amount       250 non-null    int64 \n",
      " 3   Customer_ID  250 non-null    int64 \n",
      "dtypes: int64(3), object(1)\n",
      "memory usage: 7.9+ KB\n",
      "\n",
      "\n",
      "Shipping Table Info:\n",
      "<class 'pandas.core.frame.DataFrame'>\n",
      "RangeIndex: 250 entries, 0 to 249\n",
      "Data columns (total 3 columns):\n",
      " #   Column       Non-Null Count  Dtype \n",
      "---  ------       --------------  ----- \n",
      " 0   Shipping_ID  250 non-null    int64 \n",
      " 1   Status       250 non-null    object\n",
      " 2   Customer_ID  250 non-null    int64 \n",
      "dtypes: int64(2), object(1)\n",
      "memory usage: 6.0+ KB\n"
     ]
    }
   ],
   "source": [
    "\n",
    "print('Customers Table Info:')\n",
    "customers.info()\n",
    "\n",
    "print('\\n\\nOrders Table Info:')\n",
    "orders.info()\n",
    "\n",
    "print('\\n\\nShipping Table Info:')\n",
    "shipping.info()"
   ]
  },
  {
   "cell_type": "markdown",
   "id": "e0b40c6c",
   "metadata": {
    "papermill": {
     "duration": 0.006591,
     "end_time": "2024-08-12T04:59:18.093053",
     "exception": false,
     "start_time": "2024-08-12T04:59:18.086462",
     "status": "completed"
    },
    "tags": []
   },
   "source": [
    "#### Observations\n",
    "* *Customer* table contains 250 rows and 5 columns. Hence, total data points = 1250.\n",
    "* *Order* table contains 250 rows and 4 columns. Hence, total data points = 1000.\n",
    "* *Shipping* table contains 250 rows and 3 columns. Hence, total data points = 750.\n",
    "* *Customer*, *Order* & *Shipping* tables do not contain NULLs in any column.\n",
    "* Age is not considered as continuous value because it can only contain integers.\n",
    "\n",
    "### Data Cleaning\n",
    "\n",
    "#### Tasks\n",
    "1. Check for misspellings in fields: Country, Status, Item\n",
    "    - See all the unique values in each field: Customer[Country], Shipping[Status], Order[Item].\n",
    "2. Check missing data in all fields\n",
    "    - See if any data cell is blank or NaN.\n",
    "3. Check the tables should not contain any duplicates.\n",
    "    - See if any primary key is repeating. Assume all other fields are allowed to be duplicated.\n",
    "4. Check for Outliers based on Amounts & No. of Orders\n",
    "    - See if any customer or a product stands out of the other, and decide how they should be treated."
   ]
  },
  {
   "cell_type": "code",
   "execution_count": 7,
   "id": "e44a0574",
   "metadata": {
    "execution": {
     "iopub.execute_input": "2024-08-12T04:59:18.108754Z",
     "iopub.status.busy": "2024-08-12T04:59:18.107781Z",
     "iopub.status.idle": "2024-08-12T04:59:18.116362Z",
     "shell.execute_reply": "2024-08-12T04:59:18.115517Z"
    },
    "papermill": {
     "duration": 0.01876,
     "end_time": "2024-08-12T04:59:18.118589",
     "exception": false,
     "start_time": "2024-08-12T04:59:18.099829",
     "status": "completed"
    },
    "tags": []
   },
   "outputs": [
    {
     "name": "stdout",
     "output_type": "stream",
     "text": [
      "Country\n",
      "UAE     49\n",
      "UK     100\n",
      "USA    101\n",
      "Name: count, dtype: int64\n",
      "\n",
      "Status\n",
      "Delivered    100\n",
      "Pending      150\n",
      "Name: count, dtype: int64\n",
      "\n",
      "Item\n",
      "Mouse       25\n",
      "Monitor     25\n",
      "Harddisk    25\n",
      "Webcam      25\n",
      "DDR RAM     25\n",
      "Headset     25\n",
      "Keyboard    50\n",
      "Mousepad    50\n",
      "Name: count, dtype: int64\n"
     ]
    }
   ],
   "source": [
    "# 1. Misspelling Checks\n",
    "print(customers['Country'].value_counts().sort_values(), shipping['Status'].value_counts().sort_values(), orders['Item'].value_counts().sort_values(), sep='\\n\\n')"
   ]
  },
  {
   "cell_type": "markdown",
   "id": "7784128f",
   "metadata": {
    "papermill": {
     "duration": 0.006505,
     "end_time": "2024-08-12T04:59:18.131982",
     "exception": false,
     "start_time": "2024-08-12T04:59:18.125477",
     "status": "completed"
    },
    "tags": []
   },
   "source": [
    "#### Conclusion\n",
    "* There are no misspelled data in *Country*, *Status* and *Item* columns.\n",
    "* *Country*, *Status* and *Item* columns have consistent datatypes.\n",
    "* *Country*, *Status* and *Item* columns follow Atomicity, i.e. one data point contains only one value"
   ]
  },
  {
   "cell_type": "code",
   "execution_count": 8,
   "id": "93fa3c86",
   "metadata": {
    "execution": {
     "iopub.execute_input": "2024-08-12T04:59:18.147431Z",
     "iopub.status.busy": "2024-08-12T04:59:18.146633Z",
     "iopub.status.idle": "2024-08-12T04:59:18.163815Z",
     "shell.execute_reply": "2024-08-12T04:59:18.162610Z"
    },
    "papermill": {
     "duration": 0.027208,
     "end_time": "2024-08-12T04:59:18.165918",
     "exception": false,
     "start_time": "2024-08-12T04:59:18.138710",
     "status": "completed"
    },
    "tags": []
   },
   "outputs": [
    {
     "name": "stdout",
     "output_type": "stream",
     "text": [
      "No. of Missing data points in Customers table:\n",
      " Customer_ID    0\n",
      "First          0\n",
      "Last           0\n",
      "Age            0\n",
      "Country        0\n",
      "dtype: int64\n",
      "\n",
      "\n",
      "No. of Missing data points in Orders table:\n",
      " Order_ID       0\n",
      "Item           0\n",
      "Amount         0\n",
      "Customer_ID    0\n",
      "dtype: int64\n",
      "\n",
      "\n",
      "No. of Missing data points in Shipping table:\n",
      " Shipping_ID    0\n",
      "Status         0\n",
      "Customer_ID    0\n",
      "dtype: int64\n",
      "\n",
      "\n"
     ]
    }
   ],
   "source": [
    "# 2. Check if there are missing values.\n",
    "\n",
    "_var = (customers == 0 | customers.isna() | customers.map(lambda x: str(x).strip() == '')).sum()\n",
    "print(f'No. of Missing data points in Customers table:\\n {_var}\\n\\n')\n",
    "_var = (orders == 0 | orders.isna() | orders.map(lambda x: str(x).strip() == '')).sum()\n",
    "print(f'No. of Missing data points in Orders table:\\n {_var}\\n\\n')\n",
    "_var = (shipping == 0 | shipping.isna() | shipping.map(lambda x: str(x).strip() == '')).sum()\n",
    "print(f'No. of Missing data points in Shipping table:\\n {_var}\\n\\n')"
   ]
  },
  {
   "cell_type": "markdown",
   "id": "ee223906",
   "metadata": {
    "papermill": {
     "duration": 0.006775,
     "end_time": "2024-08-12T04:59:18.179969",
     "exception": false,
     "start_time": "2024-08-12T04:59:18.173194",
     "status": "completed"
    },
    "tags": []
   },
   "source": [
    "#### Conclusion\n",
    "* There are 250 rows in each table, and all columns have 250 non-null values\n",
    "* There are no NULLs, zeroes, or \\<Blanks\\> in all three tables."
   ]
  },
  {
   "cell_type": "code",
   "execution_count": 9,
   "id": "7a7146fd",
   "metadata": {
    "execution": {
     "iopub.execute_input": "2024-08-12T04:59:18.195810Z",
     "iopub.status.busy": "2024-08-12T04:59:18.194965Z",
     "iopub.status.idle": "2024-08-12T04:59:18.202060Z",
     "shell.execute_reply": "2024-08-12T04:59:18.201183Z"
    },
    "papermill": {
     "duration": 0.017504,
     "end_time": "2024-08-12T04:59:18.204383",
     "exception": false,
     "start_time": "2024-08-12T04:59:18.186879",
     "status": "completed"
    },
    "tags": []
   },
   "outputs": [
    {
     "name": "stdout",
     "output_type": "stream",
     "text": [
      "# Duplicates in Customers table: 0\n",
      "# Duplicates in Orders table: 0\n",
      "# Duplicates in Shipping table: 0\n"
     ]
    }
   ],
   "source": [
    "# 3. Check duplicates in Primary Key\n",
    "print('# Duplicates in Customers table: ', end='')\n",
    "print(customers.duplicated(subset=['Customer_ID']).sum())\n",
    "\n",
    "print('# Duplicates in Orders table: ', end='')\n",
    "print(orders.duplicated(subset=['Order_ID']).sum())\n",
    "\n",
    "print('# Duplicates in Shipping table: ', end='')\n",
    "print(shipping.duplicated(subset=['Shipping_ID']).sum())"
   ]
  },
  {
   "cell_type": "markdown",
   "id": "8be8e4bc",
   "metadata": {
    "papermill": {
     "duration": 0.006539,
     "end_time": "2024-08-12T04:59:18.217850",
     "exception": false,
     "start_time": "2024-08-12T04:59:18.211311",
     "status": "completed"
    },
    "tags": []
   },
   "source": [
    "#### Conclusion\n",
    "\n",
    "* Assumed primary keys *Customer_ID*, *Order_ID* and *Shipping_ID* follow all data consistency constraints.\n",
    "* There is only one item purchased per order."
   ]
  },
  {
   "cell_type": "code",
   "execution_count": 10,
   "id": "8f4180a3",
   "metadata": {
    "execution": {
     "iopub.execute_input": "2024-08-12T04:59:18.232991Z",
     "iopub.status.busy": "2024-08-12T04:59:18.232688Z",
     "iopub.status.idle": "2024-08-12T04:59:18.271966Z",
     "shell.execute_reply": "2024-08-12T04:59:18.270962Z"
    },
    "papermill": {
     "duration": 0.049636,
     "end_time": "2024-08-12T04:59:18.274330",
     "exception": false,
     "start_time": "2024-08-12T04:59:18.224694",
     "status": "completed"
    },
    "tags": []
   },
   "outputs": [
    {
     "name": "stdout",
     "output_type": "stream",
     "text": [
      "For Customers Table:\n",
      "                  Customer_ID         Age\n",
      "count              250.000000  250.000000\n",
      "mean               125.500000   47.576000\n",
      "std                 72.312977   18.978011\n",
      "min                  1.000000   18.000000\n",
      "25%                 63.250000   29.000000\n",
      "50%                125.500000   47.000000\n",
      "75%                187.750000   63.000000\n",
      "max                250.000000   80.000000\n",
      "iqr                124.500000   34.000000\n",
      "valid_range_from  -123.500000  -22.000000\n",
      "valid_range_to     374.500000  114.000000\n",
      "\n",
      "For Orders Table\n",
      "                    Order_ID       Amount  Customer_ID\n",
      "count             250.000000    250.00000   250.000000\n",
      "mean              125.500000   2130.00000   130.404000\n",
      "std                72.312977   3575.43493    69.192711\n",
      "min                 1.000000    200.00000     4.000000\n",
      "25%                63.250000    300.00000    71.500000\n",
      "50%               125.500000    400.00000   125.500000\n",
      "75%               187.750000   1500.00000   190.750000\n",
      "max               250.000000  12000.00000   250.000000\n",
      "iqr               124.500000   1200.00000   119.250000\n",
      "valid_range_from -123.500000  -1500.00000  -107.375000\n",
      "valid_range_to    374.500000   3300.00000   369.625000\n",
      "\n",
      "For Shipping Table\n",
      "                  Shipping_ID  Customer_ID\n",
      "count              250.000000   250.000000\n",
      "mean               125.500000   120.620000\n",
      "std                 72.312977    73.893848\n",
      "min                  1.000000     1.000000\n",
      "25%                 63.250000    53.250000\n",
      "50%                125.500000   118.000000\n",
      "75%                187.750000   187.500000\n",
      "max                250.000000   248.000000\n",
      "iqr                124.500000   134.250000\n",
      "valid_range_from  -123.500000  -148.125000\n",
      "valid_range_to     374.500000   388.875000\n",
      "\n"
     ]
    }
   ],
   "source": [
    "# 4. Checking for Outliers\n",
    "\n",
    "print('For Customers Table:')\n",
    "tstats = customers.describe().transpose()\n",
    "tstats['iqr'] = tstats['75%'] - tstats['25%']\n",
    "tstats['valid_range_from'] = tstats['25%'] - (tstats['iqr']*1.5)\n",
    "tstats['valid_range_to'] = tstats['75%'] + (tstats['iqr']*1.5)\n",
    "print(tstats.transpose(), end='\\n\\n')\n",
    "\n",
    "print('For Orders Table')\n",
    "tstats = orders.describe().transpose()\n",
    "tstats['iqr'] = tstats['75%'] - tstats['25%']\n",
    "tstats['valid_range_from'] = tstats['25%'] - (tstats['iqr']*1.5)\n",
    "tstats['valid_range_to'] = tstats['75%'] + (tstats['iqr']*1.5)\n",
    "print(tstats.transpose(), end='\\n\\n')\n",
    "\n",
    "print('For Shipping Table')\n",
    "tstats = shipping.describe().transpose()\n",
    "tstats['iqr'] = tstats['75%'] - tstats['25%']\n",
    "tstats['valid_range_from'] = tstats['25%'] - (tstats['iqr']*1.5)\n",
    "tstats['valid_range_to'] = tstats['75%'] + (tstats['iqr']*1.5)\n",
    "print(tstats.transpose(), end='\\n\\n')"
   ]
  },
  {
   "cell_type": "code",
   "execution_count": 11,
   "id": "a98e01b6",
   "metadata": {
    "execution": {
     "iopub.execute_input": "2024-08-12T04:59:18.289870Z",
     "iopub.status.busy": "2024-08-12T04:59:18.289557Z",
     "iopub.status.idle": "2024-08-12T04:59:18.311810Z",
     "shell.execute_reply": "2024-08-12T04:59:18.310897Z"
    },
    "papermill": {
     "duration": 0.032379,
     "end_time": "2024-08-12T04:59:18.313895",
     "exception": false,
     "start_time": "2024-08-12T04:59:18.281516",
     "status": "completed"
    },
    "tags": []
   },
   "outputs": [
    {
     "data": {
      "text/html": [
       "<div>\n",
       "<style scoped>\n",
       "    .dataframe tbody tr th:only-of-type {\n",
       "        vertical-align: middle;\n",
       "    }\n",
       "\n",
       "    .dataframe tbody tr th {\n",
       "        vertical-align: top;\n",
       "    }\n",
       "\n",
       "    .dataframe thead tr th {\n",
       "        text-align: left;\n",
       "    }\n",
       "\n",
       "    .dataframe thead tr:last-of-type th {\n",
       "        text-align: right;\n",
       "    }\n",
       "</style>\n",
       "<table border=\"1\" class=\"dataframe\">\n",
       "  <thead>\n",
       "    <tr>\n",
       "      <th></th>\n",
       "      <th>Order_ID</th>\n",
       "      <th colspan=\"3\" halign=\"left\">Amount</th>\n",
       "    </tr>\n",
       "    <tr>\n",
       "      <th></th>\n",
       "      <th>count</th>\n",
       "      <th>mean</th>\n",
       "      <th>sum</th>\n",
       "      <th>count</th>\n",
       "    </tr>\n",
       "    <tr>\n",
       "      <th>Item</th>\n",
       "      <th></th>\n",
       "      <th></th>\n",
       "      <th></th>\n",
       "      <th></th>\n",
       "    </tr>\n",
       "  </thead>\n",
       "  <tbody>\n",
       "    <tr>\n",
       "      <th>Harddisk</th>\n",
       "      <td>25</td>\n",
       "      <td>5000.0</td>\n",
       "      <td>125000</td>\n",
       "      <td>25</td>\n",
       "    </tr>\n",
       "    <tr>\n",
       "      <th>Monitor</th>\n",
       "      <td>25</td>\n",
       "      <td>12000.0</td>\n",
       "      <td>300000</td>\n",
       "      <td>25</td>\n",
       "    </tr>\n",
       "  </tbody>\n",
       "</table>\n",
       "</div>"
      ],
      "text/plain": [
       "         Order_ID   Amount              \n",
       "            count     mean     sum count\n",
       "Item                                    \n",
       "Harddisk       25   5000.0  125000    25\n",
       "Monitor        25  12000.0  300000    25"
      ]
     },
     "execution_count": 11,
     "metadata": {},
     "output_type": "execute_result"
    }
   ],
   "source": [
    "# From orders table, the max of Amount value is outside the valid data range (0, 3300), hence this requires further analysis.\n",
    "# Exploring Amount outliers further:\n",
    "\n",
    "# Let's analyse the items that are valued above 3300.\n",
    "orders[orders['Amount'] > 3300].groupby('Item').agg({'Order_ID': 'count', 'Amount': ['mean', 'sum', 'count']})\n"
   ]
  },
  {
   "cell_type": "markdown",
   "id": "0f1ff32e",
   "metadata": {
    "papermill": {
     "duration": 0.007035,
     "end_time": "2024-08-12T04:59:18.328557",
     "exception": false,
     "start_time": "2024-08-12T04:59:18.321522",
     "status": "completed"
    },
    "tags": []
   },
   "source": [
    "#### Conclusion\n",
    "* The outliers have been identified based on the statistical method which considers outliers as values outside the range from `[Quartile_1 - (IQR * 1.5)] to [Quartile_3 + (IQR * 1.5)]`. This method especially works with data that does not follow normal curve.\n",
    "* From customers table, we don't see any customer outside the *Age* range (0, 114), hence there are no outliers. Since age cannot be negative, we can assume the range starts from 0.\n",
    "* From orders table, the max of *Amount* value is **outside** the valid data range (0, 3300). On further analysis, we found that there are significant number of orders with the amount above 3300. Hence, no action is required.\n",
    "* shipping table does not contain numeric data, except the identifiers."
   ]
  },
  {
   "cell_type": "markdown",
   "id": "9dbc27a4",
   "metadata": {
    "papermill": {
     "duration": 0.006974,
     "end_time": "2024-08-12T04:59:18.342668",
     "exception": false,
     "start_time": "2024-08-12T04:59:18.335694",
     "status": "completed"
    },
    "tags": []
   },
   "source": [
    "### Data Validation\n",
    "\n",
    "* Do all entries in a column have same datatype?\n",
    "* Do all entries lie in the same/expected range?\n",
    "* Do all entries have the same format?\n"
   ]
  },
  {
   "cell_type": "code",
   "execution_count": 12,
   "id": "72c880e1",
   "metadata": {
    "execution": {
     "iopub.execute_input": "2024-08-12T04:59:18.358879Z",
     "iopub.status.busy": "2024-08-12T04:59:18.358211Z",
     "iopub.status.idle": "2024-08-12T04:59:18.393393Z",
     "shell.execute_reply": "2024-08-12T04:59:18.392257Z"
    },
    "papermill": {
     "duration": 0.045829,
     "end_time": "2024-08-12T04:59:18.395702",
     "exception": false,
     "start_time": "2024-08-12T04:59:18.349873",
     "status": "completed"
    },
    "tags": []
   },
   "outputs": [
    {
     "name": "stdout",
     "output_type": "stream",
     "text": [
      "Data Summary of Customer table:\n",
      "\n",
      "        Customer_ID   First      Last         Age Country\n",
      "count    250.000000     250       250  250.000000     250\n",
      "unique          NaN     171       189         NaN       3\n",
      "top             NaN  Joseph  Williams         NaN     USA\n",
      "freq            NaN       5         6         NaN     101\n",
      "mean     125.500000     NaN       NaN   47.576000     NaN\n",
      "std       72.312977     NaN       NaN   18.978011     NaN\n",
      "min        1.000000     NaN       NaN   18.000000     NaN\n",
      "25%       63.250000     NaN       NaN   29.000000     NaN\n",
      "50%      125.500000     NaN       NaN   47.000000     NaN\n",
      "75%      187.750000     NaN       NaN   63.000000     NaN\n",
      "max      250.000000     NaN       NaN   80.000000     NaN\n",
      "\n",
      "Data Summary of Order table:\n",
      "\n",
      "          Order_ID      Item       Amount  Customer_ID\n",
      "count   250.000000       250    250.00000   250.000000\n",
      "unique         NaN         8          NaN          NaN\n",
      "top            NaN  Keyboard          NaN          NaN\n",
      "freq           NaN        50          NaN          NaN\n",
      "mean    125.500000       NaN   2130.00000   130.404000\n",
      "std      72.312977       NaN   3575.43493    69.192711\n",
      "min       1.000000       NaN    200.00000     4.000000\n",
      "25%      63.250000       NaN    300.00000    71.500000\n",
      "50%     125.500000       NaN    400.00000   125.500000\n",
      "75%     187.750000       NaN   1500.00000   190.750000\n",
      "max     250.000000       NaN  12000.00000   250.000000\n",
      "\n",
      "Data Summary of Shipping table:\n",
      "\n",
      "        Shipping_ID   Status  Customer_ID\n",
      "count    250.000000      250   250.000000\n",
      "unique          NaN        2          NaN\n",
      "top             NaN  Pending          NaN\n",
      "freq            NaN      150          NaN\n",
      "mean     125.500000      NaN   120.620000\n",
      "std       72.312977      NaN    73.893848\n",
      "min        1.000000      NaN     1.000000\n",
      "25%       63.250000      NaN    53.250000\n",
      "50%      125.500000      NaN   118.000000\n",
      "75%      187.750000      NaN   187.500000\n",
      "max      250.000000      NaN   248.000000\n",
      "\n"
     ]
    }
   ],
   "source": [
    "print('Data Summary of Customer table:', customers.describe(include='all'), sep='\\n\\n', end='\\n\\n')\n",
    "print('Data Summary of Order table:', orders.describe(include='all'), sep='\\n\\n', end='\\n\\n')\n",
    "print('Data Summary of Shipping table:', shipping.describe(include='all'), sep='\\n\\n', end='\\n\\n')"
   ]
  },
  {
   "cell_type": "code",
   "execution_count": 13,
   "id": "fd289645",
   "metadata": {
    "execution": {
     "iopub.execute_input": "2024-08-12T04:59:18.412059Z",
     "iopub.status.busy": "2024-08-12T04:59:18.411753Z",
     "iopub.status.idle": "2024-08-12T04:59:18.423378Z",
     "shell.execute_reply": "2024-08-12T04:59:18.422382Z"
    },
    "papermill": {
     "duration": 0.022304,
     "end_time": "2024-08-12T04:59:18.425634",
     "exception": false,
     "start_time": "2024-08-12T04:59:18.403330",
     "status": "completed"
    },
    "tags": []
   },
   "outputs": [
    {
     "data": {
      "text/html": [
       "<div>\n",
       "<style scoped>\n",
       "    .dataframe tbody tr th:only-of-type {\n",
       "        vertical-align: middle;\n",
       "    }\n",
       "\n",
       "    .dataframe tbody tr th {\n",
       "        vertical-align: top;\n",
       "    }\n",
       "\n",
       "    .dataframe thead th {\n",
       "        text-align: right;\n",
       "    }\n",
       "</style>\n",
       "<table border=\"1\" class=\"dataframe\">\n",
       "  <thead>\n",
       "    <tr style=\"text-align: right;\">\n",
       "      <th></th>\n",
       "      <th>Customer_ID</th>\n",
       "      <th>First</th>\n",
       "      <th>Last</th>\n",
       "      <th>Age</th>\n",
       "      <th>Country</th>\n",
       "    </tr>\n",
       "  </thead>\n",
       "  <tbody>\n",
       "    <tr>\n",
       "      <th>5</th>\n",
       "      <td>6</td>\n",
       "      <td>N!cole</td>\n",
       "      <td>Jones</td>\n",
       "      <td>33</td>\n",
       "      <td>USA</td>\n",
       "    </tr>\n",
       "    <tr>\n",
       "      <th>13</th>\n",
       "      <td>14</td>\n",
       "      <td>N!cole</td>\n",
       "      <td>Lara</td>\n",
       "      <td>77</td>\n",
       "      <td>UK</td>\n",
       "    </tr>\n",
       "    <tr>\n",
       "      <th>108</th>\n",
       "      <td>109</td>\n",
       "      <td>R0bert</td>\n",
       "      <td>Moore</td>\n",
       "      <td>40</td>\n",
       "      <td>UK</td>\n",
       "    </tr>\n",
       "    <tr>\n",
       "      <th>117</th>\n",
       "      <td>118</td>\n",
       "      <td>R0bert</td>\n",
       "      <td>Shepherd</td>\n",
       "      <td>28</td>\n",
       "      <td>UK</td>\n",
       "    </tr>\n",
       "    <tr>\n",
       "      <th>161</th>\n",
       "      <td>162</td>\n",
       "      <td>N!cole</td>\n",
       "      <td>Bennett</td>\n",
       "      <td>51</td>\n",
       "      <td>USA</td>\n",
       "    </tr>\n",
       "    <tr>\n",
       "      <th>170</th>\n",
       "      <td>171</td>\n",
       "      <td>L@rry</td>\n",
       "      <td>Cole</td>\n",
       "      <td>50</td>\n",
       "      <td>USA</td>\n",
       "    </tr>\n",
       "    <tr>\n",
       "      <th>197</th>\n",
       "      <td>198</td>\n",
       "      <td>R0bert</td>\n",
       "      <td>Bryan</td>\n",
       "      <td>49</td>\n",
       "      <td>UK</td>\n",
       "    </tr>\n",
       "    <tr>\n",
       "      <th>210</th>\n",
       "      <td>211</td>\n",
       "      <td>Al1cia</td>\n",
       "      <td>Thompson</td>\n",
       "      <td>38</td>\n",
       "      <td>USA</td>\n",
       "    </tr>\n",
       "    <tr>\n",
       "      <th>213</th>\n",
       "      <td>214</td>\n",
       "      <td>N!cole</td>\n",
       "      <td>Mcintyre</td>\n",
       "      <td>18</td>\n",
       "      <td>UK</td>\n",
       "    </tr>\n",
       "    <tr>\n",
       "      <th>235</th>\n",
       "      <td>236</td>\n",
       "      <td>Al1cia</td>\n",
       "      <td>Jensen</td>\n",
       "      <td>19</td>\n",
       "      <td>USA</td>\n",
       "    </tr>\n",
       "  </tbody>\n",
       "</table>\n",
       "</div>"
      ],
      "text/plain": [
       "     Customer_ID   First      Last  Age Country\n",
       "5              6  N!cole     Jones   33     USA\n",
       "13            14  N!cole      Lara   77      UK\n",
       "108          109  R0bert     Moore   40      UK\n",
       "117          118  R0bert  Shepherd   28      UK\n",
       "161          162  N!cole   Bennett   51     USA\n",
       "170          171   L@rry      Cole   50     USA\n",
       "197          198  R0bert     Bryan   49      UK\n",
       "210          211  Al1cia  Thompson   38     USA\n",
       "213          214  N!cole  Mcintyre   18      UK\n",
       "235          236  Al1cia    Jensen   19     USA"
      ]
     },
     "execution_count": 13,
     "metadata": {},
     "output_type": "execute_result"
    }
   ],
   "source": [
    "# First Name and Last Names should not contain extra spaces and special characters.\n",
    "customers.loc[~customers['First'].str.isalpha()]"
   ]
  },
  {
   "cell_type": "code",
   "execution_count": 14,
   "id": "5f1d074e",
   "metadata": {
    "execution": {
     "iopub.execute_input": "2024-08-12T04:59:18.443719Z",
     "iopub.status.busy": "2024-08-12T04:59:18.442847Z",
     "iopub.status.idle": "2024-08-12T04:59:18.454156Z",
     "shell.execute_reply": "2024-08-12T04:59:18.453220Z"
    },
    "papermill": {
     "duration": 0.02274,
     "end_time": "2024-08-12T04:59:18.456240",
     "exception": false,
     "start_time": "2024-08-12T04:59:18.433500",
     "status": "completed"
    },
    "tags": []
   },
   "outputs": [
    {
     "data": {
      "text/html": [
       "<div>\n",
       "<style scoped>\n",
       "    .dataframe tbody tr th:only-of-type {\n",
       "        vertical-align: middle;\n",
       "    }\n",
       "\n",
       "    .dataframe tbody tr th {\n",
       "        vertical-align: top;\n",
       "    }\n",
       "\n",
       "    .dataframe thead th {\n",
       "        text-align: right;\n",
       "    }\n",
       "</style>\n",
       "<table border=\"1\" class=\"dataframe\">\n",
       "  <thead>\n",
       "    <tr style=\"text-align: right;\">\n",
       "      <th></th>\n",
       "      <th>Customer_ID</th>\n",
       "      <th>First</th>\n",
       "      <th>Last</th>\n",
       "      <th>Age</th>\n",
       "      <th>Country</th>\n",
       "    </tr>\n",
       "  </thead>\n",
       "  <tbody>\n",
       "    <tr>\n",
       "      <th>112</th>\n",
       "      <td>113</td>\n",
       "      <td>Derrick</td>\n",
       "      <td>R0berts</td>\n",
       "      <td>72</td>\n",
       "      <td>UK</td>\n",
       "    </tr>\n",
       "    <tr>\n",
       "      <th>241</th>\n",
       "      <td>242</td>\n",
       "      <td>Mark</td>\n",
       "      <td>R0berts</td>\n",
       "      <td>61</td>\n",
       "      <td>USA</td>\n",
       "    </tr>\n",
       "  </tbody>\n",
       "</table>\n",
       "</div>"
      ],
      "text/plain": [
       "     Customer_ID    First     Last  Age Country\n",
       "112          113  Derrick  R0berts   72      UK\n",
       "241          242     Mark  R0berts   61     USA"
      ]
     },
     "execution_count": 14,
     "metadata": {},
     "output_type": "execute_result"
    }
   ],
   "source": [
    "customers.loc[~customers['Last'].str.isalpha()]"
   ]
  },
  {
   "cell_type": "markdown",
   "id": "a13d5e35",
   "metadata": {
    "papermill": {
     "duration": 0.007533,
     "end_time": "2024-08-12T04:59:18.471598",
     "exception": false,
     "start_time": "2024-08-12T04:59:18.464065",
     "status": "completed"
    },
    "tags": []
   },
   "source": [
    "#### Conclusion\n",
    "\n",
    "* As established, we can see that `Customer_ID`, `Order_ID` and `Shipping_ID` primary key columns have no missing values, no duplicates and min and max values are 1 and 250 respectively. Hence, these columns contain all integers between 1 and 250, both inclusive.\n",
    "* `Customer_ID` foreign key has values from 4 to 250 in Orders table and 1 to 248 in Shipping table. Hence, there is one primary key for each foreign key here.\n",
    "* `Age` column ranges from 18 to 80, which indicates the orders were placed by customers with appropriate age.\n",
    "* `Status` column has only 2 unique values as expected.\n",
    "* `Item` column has 8 unique values as expected.\n",
    "\n",
    "Hence,\n",
    "* All data entries follow the column's data type constraints.\n",
    "* All data falls under the expected range of values.\n",
    "* All values follow the same format across the field/column.\n",
    "\n",
    "\n",
    "### Data Anomalies Detection"
   ]
  },
  {
   "cell_type": "code",
   "execution_count": 15,
   "id": "6bdb699d",
   "metadata": {
    "execution": {
     "iopub.execute_input": "2024-08-12T04:59:18.488365Z",
     "iopub.status.busy": "2024-08-12T04:59:18.488000Z",
     "iopub.status.idle": "2024-08-12T04:59:18.496532Z",
     "shell.execute_reply": "2024-08-12T04:59:18.495277Z"
    },
    "papermill": {
     "duration": 0.019243,
     "end_time": "2024-08-12T04:59:18.498536",
     "exception": false,
     "start_time": "2024-08-12T04:59:18.479293",
     "status": "completed"
    },
    "tags": []
   },
   "outputs": [
    {
     "name": "stdout",
     "output_type": "stream",
     "text": [
      "There are 94 orders for which shipment has not been started.\n"
     ]
    }
   ],
   "source": [
    "# 1. Have all orders have been shipped?\n",
    "# All customers in Order table must have an entry in Shipping table\n",
    "# This is not an ideal scenario, usually shipment is related to order and order is further related to customer.\n",
    "\n",
    "n_not_started_orders = orders.loc[~orders['Customer_ID'].isin(shipping['Customer_ID']), ['Order_ID']].shape[0]\n",
    "print(f'There are {n_not_started_orders} orders for which shipment has not been started.')"
   ]
  },
  {
   "cell_type": "code",
   "execution_count": 16,
   "id": "b87cb26c",
   "metadata": {
    "execution": {
     "iopub.execute_input": "2024-08-12T04:59:18.515455Z",
     "iopub.status.busy": "2024-08-12T04:59:18.515140Z",
     "iopub.status.idle": "2024-08-12T04:59:18.523583Z",
     "shell.execute_reply": "2024-08-12T04:59:18.522589Z"
    },
    "papermill": {
     "duration": 0.019094,
     "end_time": "2024-08-12T04:59:18.525565",
     "exception": false,
     "start_time": "2024-08-12T04:59:18.506471",
     "status": "completed"
    },
    "tags": []
   },
   "outputs": [
    {
     "name": "stdout",
     "output_type": "stream",
     "text": [
      "There are 67 customers who have multiple shipments\n",
      "There are 60 customers who have placed multiple orders.\n"
     ]
    }
   ],
   "source": [
    "# 2. Number of customers who placed multiple orders should be same as customers who have multiple orders placed.\n",
    "# Are there multiple shipments to a customer?\n",
    "cust = shipping.groupby('Customer_ID')['Shipping_ID'].count()\n",
    "print(f'There are {cust[cust > 1].size} customers who have multiple shipments')\n",
    "\n",
    "# Has any customer placed multiple orders?\n",
    "cust = orders.groupby('Customer_ID')['Order_ID'].count()\n",
    "print(f'There are {cust[cust > 1].size} customers who have placed multiple orders.')"
   ]
  },
  {
   "cell_type": "code",
   "execution_count": 17,
   "id": "5eb8f335",
   "metadata": {
    "execution": {
     "iopub.execute_input": "2024-08-12T04:59:18.543561Z",
     "iopub.status.busy": "2024-08-12T04:59:18.543205Z",
     "iopub.status.idle": "2024-08-12T04:59:18.550405Z",
     "shell.execute_reply": "2024-08-12T04:59:18.549434Z"
    },
    "papermill": {
     "duration": 0.018712,
     "end_time": "2024-08-12T04:59:18.552576",
     "exception": false,
     "start_time": "2024-08-12T04:59:18.533864",
     "status": "completed"
    },
    "tags": []
   },
   "outputs": [
    {
     "name": "stdout",
     "output_type": "stream",
     "text": [
      "There are 98 shipments for which order could not be found.\n"
     ]
    }
   ],
   "source": [
    "# 3. Is there any shipment for which order doesn’t exist?\n",
    "n_shipment_wo_order = shipping.loc[~shipping['Customer_ID'].isin(orders['Customer_ID']), ['Shipping_ID']].shape[0]\n",
    "print(f'There are {n_shipment_wo_order} shipments for which order could not be found.')"
   ]
  },
  {
   "cell_type": "code",
   "execution_count": 18,
   "id": "c3d307d0",
   "metadata": {
    "execution": {
     "iopub.execute_input": "2024-08-12T04:59:18.570803Z",
     "iopub.status.busy": "2024-08-12T04:59:18.569971Z",
     "iopub.status.idle": "2024-08-12T04:59:18.583930Z",
     "shell.execute_reply": "2024-08-12T04:59:18.582999Z"
    },
    "papermill": {
     "duration": 0.025124,
     "end_time": "2024-08-12T04:59:18.585936",
     "exception": false,
     "start_time": "2024-08-12T04:59:18.560812",
     "status": "completed"
    },
    "tags": []
   },
   "outputs": [
    {
     "data": {
      "text/html": [
       "<div>\n",
       "<style scoped>\n",
       "    .dataframe tbody tr th:only-of-type {\n",
       "        vertical-align: middle;\n",
       "    }\n",
       "\n",
       "    .dataframe tbody tr th {\n",
       "        vertical-align: top;\n",
       "    }\n",
       "\n",
       "    .dataframe thead th {\n",
       "        text-align: right;\n",
       "    }\n",
       "</style>\n",
       "<table border=\"1\" class=\"dataframe\">\n",
       "  <thead>\n",
       "    <tr style=\"text-align: right;\">\n",
       "      <th></th>\n",
       "      <th>Item</th>\n",
       "      <th>Amount</th>\n",
       "      <th>Order_ID</th>\n",
       "      <th>Customer_ID</th>\n",
       "    </tr>\n",
       "  </thead>\n",
       "  <tbody>\n",
       "    <tr>\n",
       "      <th>0</th>\n",
       "      <td>DDR RAM</td>\n",
       "      <td>1500</td>\n",
       "      <td>25</td>\n",
       "      <td>25</td>\n",
       "    </tr>\n",
       "    <tr>\n",
       "      <th>1</th>\n",
       "      <td>Harddisk</td>\n",
       "      <td>5000</td>\n",
       "      <td>25</td>\n",
       "      <td>25</td>\n",
       "    </tr>\n",
       "    <tr>\n",
       "      <th>2</th>\n",
       "      <td>Headset</td>\n",
       "      <td>900</td>\n",
       "      <td>25</td>\n",
       "      <td>25</td>\n",
       "    </tr>\n",
       "    <tr>\n",
       "      <th>3</th>\n",
       "      <td>Keyboard</td>\n",
       "      <td>400</td>\n",
       "      <td>50</td>\n",
       "      <td>50</td>\n",
       "    </tr>\n",
       "    <tr>\n",
       "      <th>4</th>\n",
       "      <td>Monitor</td>\n",
       "      <td>12000</td>\n",
       "      <td>25</td>\n",
       "      <td>25</td>\n",
       "    </tr>\n",
       "    <tr>\n",
       "      <th>5</th>\n",
       "      <td>Mouse</td>\n",
       "      <td>300</td>\n",
       "      <td>25</td>\n",
       "      <td>25</td>\n",
       "    </tr>\n",
       "    <tr>\n",
       "      <th>6</th>\n",
       "      <td>Mousepad</td>\n",
       "      <td>200</td>\n",
       "      <td>25</td>\n",
       "      <td>25</td>\n",
       "    </tr>\n",
       "    <tr>\n",
       "      <th>7</th>\n",
       "      <td>Mousepad</td>\n",
       "      <td>250</td>\n",
       "      <td>25</td>\n",
       "      <td>25</td>\n",
       "    </tr>\n",
       "    <tr>\n",
       "      <th>8</th>\n",
       "      <td>Webcam</td>\n",
       "      <td>350</td>\n",
       "      <td>25</td>\n",
       "      <td>25</td>\n",
       "    </tr>\n",
       "  </tbody>\n",
       "</table>\n",
       "</div>"
      ],
      "text/plain": [
       "       Item  Amount  Order_ID  Customer_ID\n",
       "0   DDR RAM    1500        25           25\n",
       "1  Harddisk    5000        25           25\n",
       "2   Headset     900        25           25\n",
       "3  Keyboard     400        50           50\n",
       "4   Monitor   12000        25           25\n",
       "5     Mouse     300        25           25\n",
       "6  Mousepad     200        25           25\n",
       "7  Mousepad     250        25           25\n",
       "8    Webcam     350        25           25"
      ]
     },
     "execution_count": 18,
     "metadata": {},
     "output_type": "execute_result"
    }
   ],
   "source": [
    "# 4. Is there any item sold at 2 or more different amount?\n",
    "orders.groupby(['Item', 'Amount']).count().sort_values(by='Item').reset_index()"
   ]
  },
  {
   "cell_type": "markdown",
   "id": "89548e15",
   "metadata": {
    "papermill": {
     "duration": 0.007928,
     "end_time": "2024-08-12T04:59:18.602135",
     "exception": false,
     "start_time": "2024-08-12T04:59:18.594207",
     "status": "completed"
    },
    "tags": []
   },
   "source": [
    "## Data Preparation & Visualization\n",
    "All data preparation and visualization has been done in PowerBI.\n",
    "Here are the links:\n",
    "* [Dashboard (PDF)](https://github.com/sarthak71/pei-interview-project/blob/main/Order_and_Shipping_Dashboard.pdf)\n",
    "* [Dashboard (.pbix)](https://github.com/sarthak71/pei-interview-project/blob/main/Order_and_Shipping_Dashboard.pbix)"
   ]
  }
 ],
 "metadata": {
  "kaggle": {
   "accelerator": "none",
   "dataSources": [
    {
     "datasetId": 5523012,
     "sourceId": 9144230,
     "sourceType": "datasetVersion"
    }
   ],
   "dockerImageVersionId": 30746,
   "isGpuEnabled": false,
   "isInternetEnabled": true,
   "language": "python",
   "sourceType": "notebook"
  },
  "kernelspec": {
   "display_name": "Python 3",
   "language": "python",
   "name": "python3"
  },
  "language_info": {
   "codemirror_mode": {
    "name": "ipython",
    "version": 3
   },
   "file_extension": ".py",
   "mimetype": "text/x-python",
   "name": "python",
   "nbconvert_exporter": "python",
   "pygments_lexer": "ipython3",
   "version": "3.10.13"
  },
  "papermill": {
   "default_parameters": {},
   "duration": 18.2781,
   "end_time": "2024-08-12T04:59:19.129960",
   "environment_variables": {},
   "exception": null,
   "input_path": "__notebook__.ipynb",
   "output_path": "__notebook__.ipynb",
   "parameters": {},
   "start_time": "2024-08-12T04:59:00.851860",
   "version": "2.5.0"
  }
 },
 "nbformat": 4,
 "nbformat_minor": 5
}
